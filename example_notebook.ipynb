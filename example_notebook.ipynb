    "from covers2colors import CoverPalette\n",
    "coverpalette = CoverPalette('iron maiden', \"powerslave\")\n",
    "cmap = coverpalette.generate_cmap(n_colors=5, random_state=42)"
    "coverpalette.display_with_colorbar(cmap)"
    "print(coverpalette.hexcodes)"
    "cmap = coverpalette.generate_cmap(n_colors=5, random_state=42)\n",
    "coverpalette.display_with_colorbar(cmap)"
    "cmaps, best_n_colors, ssd = coverpalette.generate_optimal_cmap(max_colors=10, random_state=42)\n",
    "coverpalette.display_with_colorbar(best_cmap)"
    "coverpalette.display_with_colorbar(cmaps[10])"
    "distinct_colors, distinct_cmap = coverpalette.get_distinct_colors(cmap, 6)\n"
    "coverpalette.display_with_colorbar(distinct_cmap)"
    "distinct_colors, distinct_cmap = coverpalette.generate_distinct_optimal_cmap(n_distinct_colors=5)\n",
    "coverpalette.display_with_colorbar(distinct_cmap)\n"
